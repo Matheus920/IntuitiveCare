{
  "nbformat": 4,
  "nbformat_minor": 0,
  "metadata": {
    "colab": {
      "name": "IntuitiveCare.ipynb",
      "provenance": [],
      "collapsed_sections": [],
      "toc_visible": true,
      "mount_file_id": "1VRnoM78pCkd63Ds81NmXhelbtw2Uglb4",
      "authorship_tag": "ABX9TyOSiMLVZVr+cwnWkVp5HM0U",
      "include_colab_link": true
    },
    "kernelspec": {
      "name": "python3",
      "display_name": "Python 3"
    }
  },
  "cells": [
    {
      "cell_type": "markdown",
      "metadata": {
        "id": "view-in-github",
        "colab_type": "text"
      },
      "source": [
        "<a href=\"https://colab.research.google.com/github/Matheus920/IntuitiveCare/blob/master/Teste2/IntuitiveCare.ipynb\" target=\"_parent\"><img src=\"https://colab.research.google.com/assets/colab-badge.svg\" alt=\"Open In Colab\"/></a>"
      ]
    },
    {
      "cell_type": "markdown",
      "metadata": {
        "id": "9zHz1YqMISfw",
        "colab_type": "text"
      },
      "source": [
        "# Teste 2: Transformação de Dados\n",
        "\n",
        "Para o segundo teste foi escolhido utilizar um Jupyter Notebook em ambiente Colaboratory. Dessa forma será utilizada a linguagem Python e a framework Pandas para fazer a transformação dos dados."
      ]
    },
    {
      "cell_type": "code",
      "metadata": {
        "id": "4m1TI7-kIvny",
        "colab_type": "code",
        "colab": {}
      },
      "source": [
        "import pandas as pd"
      ],
      "execution_count": 1,
      "outputs": []
    },
    {
      "cell_type": "markdown",
      "metadata": {
        "id": "c7i3gRHoJLTq",
        "colab_type": "text"
      },
      "source": [
        "Será necessário instalar a biblioteca tabula-py para realizar as extrações do PDF."
      ]
    },
    {
      "cell_type": "code",
      "metadata": {
        "id": "C7auntfyJUFb",
        "colab_type": "code",
        "colab": {}
      },
      "source": [
        "!pip install -q tabula-py"
      ],
      "execution_count": 2,
      "outputs": []
    },
    {
      "cell_type": "markdown",
      "metadata": {
        "id": "yyNdN5nryPJ6",
        "colab_type": "text"
      },
      "source": [
        "Nessa etapa é feita a importação do tabula e então as tabelas são lidas separadamente. Infelizmente, por serem lidas separadamente, essa célula pode demorar um pouco para ser executada."
      ]
    },
    {
      "cell_type": "code",
      "metadata": {
        "id": "u2wqpTWdJXZt",
        "colab_type": "code",
        "colab": {
          "base_uri": "https://localhost:8080/",
          "height": 173
        },
        "outputId": "cf7098ae-fb97-41f5-b7f2-d6b1a5800bf3"
      },
      "source": [
        "import tabula\n",
        "\n",
        "quadro30 = tabula.read_pdf_with_template(input_path=\"https://github.com/Matheus920/IntuitiveCare/raw/master/Teste2/resources/ComponenteOrganizacional.pdf\", template_path=\"https://raw.githubusercontent.com/Matheus920/IntuitiveCare/master/Teste2/resources/Quadro30.tabula-template.json\", stream=True)\n",
        "quadro31 = tabula.read_pdf_with_template(input_path=\"https://github.com/Matheus920/IntuitiveCare/raw/master/Teste2/resources/ComponenteOrganizacional.pdf\", template_path=\"https://raw.githubusercontent.com/Matheus920/IntuitiveCare/master/Teste2/resources/Quadro31.tabula-template.json\", stream=True, multiple_tables=False)\n",
        "quadro32 = tabula.read_pdf_with_template(input_path=\"https://github.com/Matheus920/IntuitiveCare/raw/master/Teste2/resources/ComponenteOrganizacional.pdf\", template_path=\"https://raw.githubusercontent.com/Matheus920/IntuitiveCare/master/Teste2/resources/Quadro32.tabula-template.json\", stream=True)\n"
      ],
      "execution_count": 3,
      "outputs": [
        {
          "output_type": "stream",
          "text": [
            "Got stderr: Jul 29, 2020 6:19:50 PM org.apache.pdfbox.pdmodel.font.PDTrueTypeFont <init>\n",
            "WARNING: Using fallback font 'LiberationSans-Bold' for 'Helvetica,Bold'\n",
            "\n",
            "Got stderr: Jul 29, 2020 6:19:53 PM org.apache.pdfbox.pdmodel.font.PDTrueTypeFont <init>\n",
            "WARNING: Using fallback font 'LiberationSans-Bold' for 'Helvetica,Bold'\n",
            "\n",
            "Got stderr: Jul 29, 2020 6:20:11 PM org.apache.pdfbox.pdmodel.font.PDTrueTypeFont <init>\n",
            "WARNING: Using fallback font 'LiberationSans-Bold' for 'Helvetica,Bold'\n",
            "\n"
          ],
          "name": "stderr"
        }
      ]
    },
    {
      "cell_type": "markdown",
      "metadata": {
        "id": "ftqVuih8yrh6",
        "colab_type": "text"
      },
      "source": [
        "Em seguida, é necessário fazer uma série de limpezas de dados na Tabela 31 em\n",
        "decorrência da dificuldade da aplicação para identificar corretamente a tabela.\n",
        "Primeiramente é manualmente adicionado à cada uma das página da Tabela 31 um \n",
        "cabeçalho."
      ]
    },
    {
      "cell_type": "code",
      "metadata": {
        "id": "pxNygUC0jiQC",
        "colab_type": "code",
        "colab": {}
      },
      "source": [
        "for i in range(0, len(quadro31)):\n",
        "  firstColumn = quadro31[i].columns.tolist()[0]\n",
        "  secondColumn = quadro31[i].columns.tolist()[1]\n",
        "\n",
        "  quadro31[i].columns = ['Código', 'Descrição']\n",
        "  quadro31[i].loc[-1] = [firstColumn, secondColumn]\n",
        "  quadro31[i].index = quadro31[i].index + 1\n",
        "  quadro31[i].sort_index(inplace=True)\n"
      ],
      "execution_count": 4,
      "outputs": []
    },
    {
      "cell_type": "markdown",
      "metadata": {
        "id": "OStHnuR0yzN2",
        "colab_type": "text"
      },
      "source": [
        "Em seguida são realizados consertos pontuais nas células em que há quebra indesejada de linha, de modo com que a formatação não acabe quebrada."
      ]
    },
    {
      "cell_type": "code",
      "metadata": {
        "id": "g9gzyaaXmMyS",
        "colab_type": "code",
        "colab": {}
      },
      "source": [
        "quadro31[5].iloc[1]['Descrição'] = quadro31[5].iloc[0]['Descrição'] + ' ' + quadro31[5].iloc[2]['Descrição']\n",
        "quadro31[5].iloc[4]['Descrição'] = quadro31[5].iloc[3]['Descrição'] +  ' ' + quadro31[5].iloc[5]['Descrição']\n",
        "quadro31[5].drop(index=[0, 2, 3, 5], inplace=True)\n",
        "quadro31[5].reset_index(inplace=True, drop=True)\n",
        "\n",
        "quadro31[3].iloc[8]['Descrição'] = quadro31[3].iloc[7]['Descrição'] + ' ' + quadro31[3].iloc[9]['Descrição']\n",
        "quadro31[3].iloc[27]['Descrição'] = quadro31[3].iloc[26]['Descrição'] + ' ' + quadro31[3].iloc[28]['Descrição']\n",
        "quadro31[3].drop(index=[7, 9, 26, 28], inplace=True)\n",
        "quadro31[3].reset_index(inplace=True, drop=True)\n",
        "\n",
        "quadro31[4].iloc[10]['Descrição'] = quadro31[4].iloc[9]['Descrição'] + ' '  + quadro31[4].iloc[11]['Descrição']\n",
        "quadro31[4].iloc[25]['Descrição'] = quadro31[4].iloc[24]['Descrição'] + ' ' + quadro31[4].iloc[26]['Descrição']\n",
        "quadro31[4].iloc[28]['Descrição'] = quadro31[4].iloc[27]['Descrição'] + ' ' + quadro31[4].iloc[29]['Descrição']\n",
        "quadro31[4].drop(index=[9, 11, 24, 26, 27, 29], inplace=True)\n",
        "quadro31[4].reset_index(inplace=True, drop=True)"
      ],
      "execution_count": 5,
      "outputs": []
    },
    {
      "cell_type": "markdown",
      "metadata": {
        "id": "G9DggM2Zy-W4",
        "colab_type": "text"
      },
      "source": [
        "Por fim, todas as páginas que contem a tabela 31 são mescladas, transformando tudo em uma tabela só."
      ]
    },
    {
      "cell_type": "code",
      "metadata": {
        "id": "YZlA1GWamS5_",
        "colab_type": "code",
        "colab": {}
      },
      "source": [
        "quadro31_final = pd.concat(quadro31, ignore_index=True, sort=True)"
      ],
      "execution_count": 6,
      "outputs": []
    },
    {
      "cell_type": "markdown",
      "metadata": {
        "id": "Ij-huTN7zFJZ",
        "colab_type": "text"
      },
      "source": [
        "Finalmente, é criado um arquivo .zip com meu nome, contendo todos os CSVs solicitados no enunciado do teste."
      ]
    },
    {
      "cell_type": "code",
      "metadata": {
        "id": "CO8-qaoisjZP",
        "colab_type": "code",
        "colab": {}
      },
      "source": [
        "import zipfile\n",
        "\n",
        "with zipfile.ZipFile('Teste_Intuitive_Care_Matheus_Moreira.zip', 'w') as csvs_zip:\n",
        "  csvs_zip.writestr(\"quadro30.csv\", quadro30[0].to_csv(index=False))\n",
        "  csvs_zip.writestr(\"quadro31.csv\", quadro31_final.to_csv(index=False))\n",
        "  csvs_zip.writestr(\"quadro32.csv\", quadro32[0].to_csv(index=False))"
      ],
      "execution_count": 8,
      "outputs": []
    }
  ]
}